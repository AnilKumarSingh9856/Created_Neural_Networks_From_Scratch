{
 "cells": [
  {
   "cell_type": "markdown",
   "id": "4d3a9041",
   "metadata": {},
   "source": [
    "## BUILDING NEURAL NETWORKS FROM SCRATCH PART 1: CODINGS NEURONS AND LAYERS"
   ]
  },
  {
   "cell_type": "markdown",
   "id": "a2c5da3b",
   "metadata": {},
   "source": [
    "CODING OUR FIRST NEURON: 3 INPUTS"
   ]
  },
  {
   "cell_type": "code",
   "execution_count": 1,
   "id": "94c6f2a8",
   "metadata": {},
   "outputs": [
    {
     "name": "stdout",
     "output_type": "stream",
     "text": [
      "2.3\n"
     ]
    }
   ],
   "source": [
    "inputs = [1, 2, 3]\n",
    "weights = [0.2, 0.8, -0.5]\n",
    "bias = 2\n",
    "\n",
    "outputs = (inputs[0] * weights[0] + inputs[1] * weights[1] + inputs[2] * weights[2] + bias) \n",
    "\n",
    "print(outputs)"
   ]
  },
  {
   "cell_type": "markdown",
   "id": "8701e5cd",
   "metadata": {},
   "source": [
    "CODING OUR SECOND NEURON: 4 INPUTS"
   ]
  },
  {
   "cell_type": "code",
   "execution_count": 2,
   "id": "80bfc513",
   "metadata": {},
   "outputs": [
    {
     "name": "stdout",
     "output_type": "stream",
     "text": [
      "6.3\n"
     ]
    }
   ],
   "source": [
    "inputs = [1.0, 2.0, 3.0, 4.0]\n",
    "weights = [0.2, 0.8, -0.5, 1.0]\n",
    "bias = 2.0\n",
    "\n",
    "outputs = (\n",
    "    inputs[0] * weights[0] +\n",
    "    inputs[1] * weights[1] +\n",
    "    inputs[2] * weights[2] +\n",
    "    inputs[3] * weights[3] + bias\n",
    ")\n",
    "\n",
    "print(outputs)"
   ]
  },
  {
   "cell_type": "markdown",
   "id": "0248a127",
   "metadata": {},
   "source": [
    "CODING OUR FIRST LAYER"
   ]
  },
  {
   "cell_type": "code",
   "execution_count": 3,
   "id": "5aae4206",
   "metadata": {},
   "outputs": [
    {
     "name": "stdout",
     "output_type": "stream",
     "text": [
      "(4.8, 1.21, 2.385)\n"
     ]
    }
   ],
   "source": [
    "inputs = [1, 2, 3, 2.5]\n",
    "weights = [\n",
    "    [0.2, 0.8, -0.5, 1],\n",
    "    [0.5, -0.91, 0.26, -0.5],\n",
    "    [-0.26, -0.27, 0.17, 0.87]\n",
    "]\n",
    "\n",
    "weights1 = weights[0]  # List of weight associated with 1st neuron: w11, w12, w13, w14\n",
    "weights2 = weights[1]  # List of weight associated with 2st neuron: w21, w22, w23, w24\n",
    "weights3 = weights[2]  # List of weight associated with 3st neuron: w31, w32, w33, w34\n",
    "\n",
    "biases = [2, 3, 0.5]\n",
    "\n",
    "bias1 = biases[0]\n",
    "bias2 = biases[1]\n",
    "bias3 = biases[2]\n",
    "\n",
    "\n",
    "outputs = (\n",
    "    \n",
    "    # Neuron 1:\n",
    "    inputs[0] * weights1[0] +\n",
    "    inputs[1] * weights1[1] +\n",
    "    inputs[2] * weights1[2] +\n",
    "    inputs[3] * weights1[3] + bias1,\n",
    "    \n",
    "    # Neuron 2:\n",
    "    inputs[0] * weights2[0] +\n",
    "    inputs[1] * weights2[1] +\n",
    "    inputs[2] * weights2[2] +\n",
    "    inputs[3] * weights2[3] + bias2,\n",
    "    \n",
    "    # Neuron 3:\n",
    "    inputs[0] * weights3[0] +\n",
    "    inputs[1] * weights3[1] +\n",
    "    inputs[2] * weights3[2] +\n",
    "    inputs[3] * weights3[3] + bias3\n",
    ")\n",
    "\n",
    "print(outputs)"
   ]
  },
  {
   "cell_type": "markdown",
   "id": "8aa62aef",
   "metadata": {},
   "source": [
    "USING LOOPS FOR BETTER AND EASIER CODING"
   ]
  },
  {
   "cell_type": "code",
   "execution_count": 4,
   "id": "382cb222",
   "metadata": {},
   "outputs": [
    {
     "name": "stdout",
     "output_type": "stream",
     "text": [
      "[4.8, 1.21, 2.385]\n"
     ]
    }
   ],
   "source": [
    "inputs = [1, 2, 3, 2.5]\n",
    "\n",
    "## List of weights\n",
    "weights = [\n",
    "    [0.2, 0.8, -0.5, 1],\n",
    "    [0.5, -0.91, 0.26, -0.5],\n",
    "    [-0.26, -0.27, 0.17, 0.87]\n",
    "] \n",
    "\n",
    "## List of biases\n",
    "biases = [2, 3, 0.5]\n",
    "\n",
    "## Output of current layer\n",
    "layer_outputs = []\n",
    "\n",
    "# For each neuron\n",
    "for neuron_weights, neuron_biases in zip(weights, biases):\n",
    "    # Zeroed output of given neuron\n",
    "    neuron_output = 0\n",
    "    # For each input and weight to the neuron\n",
    "    for n_input, weight in zip(inputs, neuron_weights):\n",
    "        # Multiply this input by associated weight\n",
    "        # and add to the neuron's output variable\n",
    "        neuron_output += n_input * weight ## W31*X1 + W32*X2 + W33*X3 + W34*X4\n",
    "    # Add bias\n",
    "    neuron_output += neuron_biases ## W31*X1 + W32*X2 + W33*X3 + W34*X4 + B3\n",
    "    # Put neuron's result to the layer's output list\n",
    "    layer_outputs.append(neuron_output)\n",
    "print(layer_outputs)"
   ]
  },
  {
   "cell_type": "markdown",
   "id": "d953d609",
   "metadata": {},
   "source": [
    "### USING NUMPY"
   ]
  },
  {
   "cell_type": "markdown",
   "id": "714faf03",
   "metadata": {},
   "source": [
    "SINGLE NEURON USING NUMPY"
   ]
  },
  {
   "cell_type": "code",
   "execution_count": 5,
   "id": "ed8c0f5c",
   "metadata": {},
   "outputs": [],
   "source": [
    "import numpy as np"
   ]
  },
  {
   "cell_type": "code",
   "execution_count": 6,
   "id": "b9e893a0",
   "metadata": {},
   "outputs": [
    {
     "name": "stdout",
     "output_type": "stream",
     "text": [
      "4.8\n"
     ]
    }
   ],
   "source": [
    "inputs = [1.0, 2.0, 3.0, 2.5]\n",
    "weights = [0.2, 0.8, -0.5, 1.0]\n",
    "bias = 2.0\n",
    "\n",
    "# Convert lists to numpy arrays\n",
    "inputs_array = np.array(inputs)\n",
    "weights_array = np.array(weights)\n",
    "\n",
    "# Calculate the dot product and add the bias\n",
    "outputs = np.dot(weights_array, inputs_array) + bias\n",
    "\n",
    "print(outputs)"
   ]
  }
 ],
 "metadata": {
  "kernelspec": {
   "display_name": ".nnfs_venv",
   "language": "python",
   "name": "python3"
  },
  "language_info": {
   "codemirror_mode": {
    "name": "ipython",
    "version": 3
   },
   "file_extension": ".py",
   "mimetype": "text/x-python",
   "name": "python",
   "nbconvert_exporter": "python",
   "pygments_lexer": "ipython3",
   "version": "3.12.3"
  }
 },
 "nbformat": 4,
 "nbformat_minor": 5
}
