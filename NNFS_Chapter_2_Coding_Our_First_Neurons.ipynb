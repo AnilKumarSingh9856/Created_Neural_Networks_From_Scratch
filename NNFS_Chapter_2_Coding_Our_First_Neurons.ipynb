{
 "cells": [
  {
   "cell_type": "markdown",
   "id": "4d3a9041",
   "metadata": {},
   "source": [
    "## BUILDING NEURAL NETWORKS FROM SCRATCH PART 1: CODINGS NEURONS AND LAYERS"
   ]
  },
  {
   "cell_type": "markdown",
   "id": "a2c5da3b",
   "metadata": {},
   "source": [
    "CODING OUR FIRST NEURON: 3 INPUTS"
   ]
  },
  {
   "cell_type": "code",
   "execution_count": null,
   "id": "94c6f2a8",
   "metadata": {},
   "outputs": [
    {
     "name": "stdout",
     "output_type": "stream",
     "text": [
      "2.3\n"
     ]
    }
   ],
   "source": [
    "inputs = [1, 2, 3]\n",
    "weights = [0.2, 0.8, -0.5]\n",
    "bias = 2\n",
    "\n",
    "outputs = (inputs[0] * weights[0] + inputs[1] * weights[1] + inputs[2] * weights[2] + bias) \n",
    "\n",
    "print(outputs)"
   ]
  },
  {
   "cell_type": "markdown",
   "id": "8701e5cd",
   "metadata": {},
   "source": [
    "CODING OUR SECOND NEURON: 4 INPUTS"
   ]
  },
  {
   "cell_type": "code",
   "execution_count": 2,
   "id": "80bfc513",
   "metadata": {},
   "outputs": [
    {
     "name": "stdout",
     "output_type": "stream",
     "text": [
      "6.3\n"
     ]
    }
   ],
   "source": [
    "inputs = [1.0, 2.0, 3.0, 4.0]\n",
    "weights = [0.2, 0.8, -0.5, 1.0]\n",
    "bias = 2.0\n",
    "\n",
    "outputs = (\n",
    "    inputs[0] * weights[0] +\n",
    "    inputs[1] * weights[1] +\n",
    "    inputs[2] * weights[2] +\n",
    "    inputs[3] * weights[3] + bias\n",
    ")\n",
    "\n",
    "print(outputs)"
   ]
  },
  {
   "cell_type": "markdown",
   "id": "0248a127",
   "metadata": {},
   "source": [
    "CODING OUR FIRST LAYER"
   ]
  },
  {
   "cell_type": "code",
   "execution_count": 10,
   "id": "5aae4206",
   "metadata": {},
   "outputs": [
    {
     "name": "stdout",
     "output_type": "stream",
     "text": [
      "(4.8, 1.21, 2.385)\n"
     ]
    }
   ],
   "source": [
    "inputs = [1, 2, 3, 2.5]\n",
    "weights = [\n",
    "    [0.2, 0.8, -0.5, 1],\n",
    "    [0.5, -0.91, 0.26, -0.5],\n",
    "    [-0.26, -0.27, 0.17, 0.87]\n",
    "]\n",
    "\n",
    "weights1 = weights[0]  # List of weight associated with 1st neuron: w11, w12, w13, w14\n",
    "weights2 = weights[1]  # List of weight associated with 2st neuron: w21, w22, w23, w24\n",
    "weights3 = weights[2]  # List of weight associated with 3st neuron: w31, w32, w33, w34\n",
    "\n",
    "biases = [2, 3, 0.5]\n",
    "\n",
    "bias1 = biases[0]\n",
    "bias2 = biases[1]\n",
    "bias3 = biases[2]\n",
    "\n",
    "\n",
    "outputs = (\n",
    "    \n",
    "    # Neuron 1:\n",
    "    inputs[0] * weights1[0] +\n",
    "    inputs[1] * weights1[1] +\n",
    "    inputs[2] * weights1[2] +\n",
    "    inputs[3] * weights1[3] + bias1,\n",
    "    \n",
    "    # Neuron 2:\n",
    "    inputs[0] * weights2[0] +\n",
    "    inputs[1] * weights2[1] +\n",
    "    inputs[2] * weights2[2] +\n",
    "    inputs[3] * weights2[3] + bias2,\n",
    "    \n",
    "    # Neuron 3:\n",
    "    inputs[0] * weights3[0] +\n",
    "    inputs[1] * weights3[1] +\n",
    "    inputs[2] * weights3[2] +\n",
    "    inputs[3] * weights3[3] + bias3\n",
    ")\n",
    "\n",
    "print(outputs)"
   ]
  },
  {
   "cell_type": "markdown",
   "id": "8aa62aef",
   "metadata": {},
   "source": [
    "USING LOOPS FOR BETTER AND EASIER CODING"
   ]
  },
  {
   "cell_type": "code",
   "execution_count": 11,
   "id": "382cb222",
   "metadata": {},
   "outputs": [
    {
     "name": "stdout",
     "output_type": "stream",
     "text": [
      "[4.8, 1.21, 2.385]\n"
     ]
    }
   ],
   "source": [
    "inputs = [1, 2, 3, 2.5]\n",
    "\n",
    "## List of weights\n",
    "weights = [\n",
    "    [0.2, 0.8, -0.5, 1],\n",
    "    [0.5, -0.91, 0.26, -0.5],\n",
    "    [-0.26, -0.27, 0.17, 0.87]\n",
    "] \n",
    "\n",
    "## List of biases\n",
    "biases = [2, 3, 0.5]\n",
    "\n",
    "## Output of current layer\n",
    "layer_outputs = []\n",
    "\n",
    "# For each neuron\n",
    "for neuron_weights, neuron_biases in zip(weights, biases):\n",
    "    # Zeroed output of given neuron\n",
    "    neuron_output = 0\n",
    "    # For each input and weight to the neuron\n",
    "    for n_input, weight in zip(inputs, neuron_weights):\n",
    "        # Multiply this input by associated weight\n",
    "        # and add to the neuron's output variable\n",
    "        neuron_output += n_input * weight ## W31*X1 + W32*X2 + W33*X3 + W34*X4\n",
    "    # Add bias\n",
    "    neuron_output += neuron_biases ## W31*X1 + W32*X2 + W33*X3 + W34*X4 + B3\n",
    "    # Put neuron's result to the layer's output list\n",
    "    layer_outputs.append(neuron_output)\n",
    "print(layer_outputs)"
   ]
  },
  {
   "cell_type": "markdown",
   "id": "d953d609",
   "metadata": {},
   "source": [
    "### USING NUMPY"
   ]
  },
  {
   "cell_type": "markdown",
   "id": "714faf03",
   "metadata": {},
   "source": [
    "SINGLE NEURON USING NUMPY"
   ]
  },
  {
   "cell_type": "code",
   "execution_count": 12,
   "id": "ed8c0f5c",
   "metadata": {},
   "outputs": [],
   "source": [
    "import numpy as np"
   ]
  },
  {
   "cell_type": "code",
   "execution_count": 13,
   "id": "b9e893a0",
   "metadata": {},
   "outputs": [
    {
     "name": "stdout",
     "output_type": "stream",
     "text": [
      "4.8\n"
     ]
    }
   ],
   "source": [
    "inputs = [1.0, 2.0, 3.0, 2.5]\n",
    "weights = [0.2, 0.8, -0.5, 1.0]\n",
    "bias = 2.0\n",
    "\n",
    "# Convert lists to numpy arrays\n",
    "inputs_array = np.array(inputs)\n",
    "weights_array = np.array(weights)\n",
    "\n",
    "# Calculate the dot product and add the bias\n",
    "outputs = np.dot(weights_array, inputs_array) + bias\n",
    "\n",
    "print(outputs)"
   ]
  },
  {
   "cell_type": "markdown",
   "id": "b57ca927",
   "metadata": {},
   "source": [
    "LAYER OF NEURONS USING NUMPY"
   ]
  },
  {
   "cell_type": "code",
   "execution_count": null,
   "id": "fee88475",
   "metadata": {},
   "outputs": [],
   "source": [
    "# In plain Python, we wrote this as a list of lists. With Numpy, this will be a 2-dimensional array, which we'll call a matrix.\n"
   ]
  },
  {
   "cell_type": "code",
   "execution_count": 15,
   "id": "affb570f",
   "metadata": {},
   "outputs": [
    {
     "name": "stdout",
     "output_type": "stream",
     "text": [
      "[4.8   1.21  2.385]\n"
     ]
    }
   ],
   "source": [
    "inputs = [1.0, 2.0, 3.0, 2.5]\n",
    "weights = [\n",
    "    [0.2, 0.8, -0.5, 1],\n",
    "    [0.5, -0.91, 0.26, -0.5],\n",
    "    [-0.26, -0.27, 0.17, 0.87]\n",
    "]\n",
    "\n",
    "biases = [2.0, 3.0, 0.5]\n",
    "\n",
    "# Convert lists to numpy arrays\n",
    "inputs_array = np.array(inputs)\n",
    "weights_array = np.array(weights)\n",
    "biases_array = np.array(biases)\n",
    "\n",
    "# Calculate the dot product and add the biases\n",
    "layer_outputs = np.dot(weights_array, inputs_array) + biases_array\n",
    "print(layer_outputs)"
   ]
  },
  {
   "cell_type": "markdown",
   "id": "63ed6b97",
   "metadata": {},
   "source": [
    "LAYER OF NEURONS AND BATCH OF DATA USING NUMPY"
   ]
  },
  {
   "cell_type": "markdown",
   "id": "9728b107",
   "metadata": {},
   "source": [
    "> NEED TO TAKE TRANSPOSE OF WEIGHT MATRIX"
   ]
  },
  {
   "cell_type": "code",
   "execution_count": 16,
   "id": "fe3ed8a6",
   "metadata": {},
   "outputs": [
    {
     "name": "stdout",
     "output_type": "stream",
     "text": [
      "[[ 4.8    1.21   2.385]\n",
      " [ 8.9   -1.81   0.2  ]\n",
      " [ 1.41   1.051  0.026]]\n"
     ]
    }
   ],
   "source": [
    "inputs = [\n",
    "    [1.0, 2.0, 3.0, 2.5],  #BATCH 1\n",
    "    [2.0, 5.0, -1.0, 2.0], #BATCH 2\n",
    "    [-1.5, 2.7, 3.3, -0.8] #BATCH 3\n",
    "]\n",
    "\n",
    "weights = [\n",
    "    [0.2, 0.8, -0.5, 1],  #NEURON 1 : WEIGHT\n",
    "    [0.5, -0.91, 0.26, -0.5], #NEURON 2 : WEIGHT\n",
    "    [-0.26, -0.27, 0.17, 0.87]  #NEURON 3 : WEIGHT\n",
    "]\n",
    "\n",
    "biases = [2.0, 3.0, 0.5]\n",
    "\n",
    "# Convert lists to numpy arrays\n",
    "inputs_array = np.array(inputs)\n",
    "weights_array = np.array(weights)\n",
    "biases_array = np.array(biases)\n",
    "\n",
    "# Calculate the dot product and add the biases\n",
    "outputs = np.dot(inputs_array, weights_array.T) + biases_array\n",
    "print(outputs)"
   ]
  },
  {
   "cell_type": "markdown",
   "id": "a2fa520f",
   "metadata": {},
   "source": [
    "2 LAYERS AND BATCH OF DATA USING NUMPY"
   ]
  },
  {
   "cell_type": "code",
   "execution_count": 20,
   "id": "d16f1c82",
   "metadata": {},
   "outputs": [
    {
     "name": "stdout",
     "output_type": "stream",
     "text": [
      "[[ 0.5031  -1.04185 -2.03875]\n",
      " [ 0.2434  -2.7332  -5.7633 ]\n",
      " [-0.99314  1.41254 -0.35655]]\n"
     ]
    }
   ],
   "source": [
    "inputs = [\n",
    "    [1, 2, 3, 2.5],\n",
    "    [2., 5., -1., 2],\n",
    "    [-1.5, 2.7, 3.3, -0.8]\n",
    "]\n",
    "\n",
    "weights = [\n",
    "    [0.2, 0.8, -0.5, 1],\n",
    "    [0.5, -0.91, 0.26, -0.5],\n",
    "    [-0.26, -0.27, 0.17, 0.87]\n",
    "]\n",
    "\n",
    "biases = [2, 3, 0.5]\n",
    "\n",
    "weights2 = [\n",
    "    [0.1, -0.14, 0.5],\n",
    "    [-0.5, 0.12, -0.33],\n",
    "    [-0.44, 0.73, -0.13]\n",
    "]\n",
    "\n",
    "biases2 = [-1, 2, -0.5]\n",
    "\n",
    "# Convert lists to numpy arrays\n",
    "inputs_array = np.array(inputs)\n",
    "weights_array = np.array(weights)\n",
    "biases_array = np.array(biases)\n",
    "weights2_array = np.array(weights2)\n",
    "biases2_array = np.array(biases2)\n",
    "\n",
    "# Calculate the output of the first layer\n",
    "layer1_outputs = np.dot(inputs_array, weights_array.T) + biases_array\n",
    "\n",
    "# Calculate the output of the second layer\n",
    "layer2_outputs = np.dot(layer1_outputs, weights2_array.T) + biases2_array\n",
    "\n",
    "print(layer2_outputs)"
   ]
  },
  {
   "cell_type": "code",
   "execution_count": null,
   "id": "004e2aa7",
   "metadata": {},
   "outputs": [],
   "source": []
  }
 ],
 "metadata": {
  "kernelspec": {
   "display_name": ".nnfs_venv",
   "language": "python",
   "name": "python3"
  },
  "language_info": {
   "codemirror_mode": {
    "name": "ipython",
    "version": 3
   },
   "file_extension": ".py",
   "mimetype": "text/x-python",
   "name": "python",
   "nbconvert_exporter": "python",
   "pygments_lexer": "ipython3",
   "version": "3.12.3"
  }
 },
 "nbformat": 4,
 "nbformat_minor": 5
}
